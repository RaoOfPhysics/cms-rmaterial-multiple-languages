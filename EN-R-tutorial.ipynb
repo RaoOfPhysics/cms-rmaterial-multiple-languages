{
  "cells": [
    {
      "cell_type": "markdown",
      "source": [
        "# Plotting an Invariant Mass Histogram in R\n",
        "\n",
        "**N.B.**: Original text and code by [Edith Villegas Garcia](https://github.com/edithvillegas). Edited and converted to a Jupyter notebook by [Achintya Rao](https://github.com/RaoOfPhysics). This notebook can be run in Binder by following the instructions from [https://github.com/binder-examples/dockerfile-r](https://github.com/binder-examples/dockerfile-r).\n",
        "\n",
        "If you're comfortable with R, [jump straight into the analysis of CMS Open Data](#Working-with-CMS-Open-Data). If not, let's start with a…\n",
        "\n",
        "## Quick intro to R\n",
        "\n",
        "R is a language used for statistics and data analysis. In this tutorial, we introduce data analysis in R using the CMS Open Data from 2011. At the end of this tutorial, you will know how to create histograms of invariant mass and identify the particles that appear in the histograms.\n",
        "\n",
        "### Data types in R\n",
        "\n",
        "There are different data types in R. Basic data types include the following:\n",
        "- Logical\n",
        "- Numeric\n",
        "- Integer\n",
        "- Complex\n",
        "- Character\n",
        "\nVariables  are  assigned  to  a  type  without  having  to  specify  it.  Numeric  variables  are  simply numbers. Integer variables are specified by adding an “L” at the end of the number:"
      ],
      "metadata": {}
    },
    {
      "cell_type": "code",
      "source": [
        "a <- 5L"
      ],
      "outputs": [],
      "execution_count": null,
      "metadata": {}
    },
    {
      "cell_type": "markdown",
      "source": [
        "Complex variables are complex numbers, they can be declared using the following format:"
      ],
      "metadata": {}
    },
    {
      "cell_type": "code",
      "source": [
        "b <- 5 + 3i\n",
        "d <- 8 + 0i"
      ],
      "outputs": [],
      "execution_count": null,
      "metadata": {}
    },
    {
      "cell_type": "markdown",
      "source": [
        "Logical variables can have values of either TRUE or FALSE. You can also assign a condition to a logical variable:"
      ],
      "metadata": {}
    },
    {
      "cell_type": "code",
      "source": [
        "c <- 3 > 5"
      ],
      "outputs": [],
      "execution_count": null,
      "metadata": {}
    },
    {
      "cell_type": "markdown",
      "source": [
        "Character variables are either letters or phrases, you can also add numbers and symbols between quotation marks."
      ],
      "metadata": {}
    },
    {
      "cell_type": "code",
      "source": [
        "cr <- \"3!\""
      ],
      "outputs": [],
      "execution_count": null,
      "metadata": {}
    },
    {
      "cell_type": "markdown",
      "source": [
        "#### Vectors\n",
        "\nVariables can be either scalar or vector. A scalar vector is a variable that contains a Vectors can contain more than one value, and are created in the following form:"
      ],
      "metadata": {}
    },
    {
      "cell_type": "code",
      "source": [
        "a <- c(2, 3, 5)"
      ],
      "outputs": [],
      "execution_count": null,
      "metadata": {}
    },
    {
      "cell_type": "markdown",
      "source": [
        "Vectors can be any of the basic data types that we mentioned before. We can also apply conditions to vectors to create a logical vector, using the following conditions:"
      ],
      "metadata": {}
    },
    {
      "cell_type": "code",
      "source": [
        "a <- c(2, 5, 8, 3, 9)\n",
        "b <- a > 3"
      ],
      "outputs": [],
      "execution_count": null,
      "metadata": {}
    },
    {
      "cell_type": "markdown",
      "source": [
        "We can create a vector with these values:\n",
        "`FALSE TRUE TRUE FALSE TRUE`"
      ],
      "metadata": {}
    },
    {
      "cell_type": "code",
      "source": [
        "b"
      ],
      "outputs": [],
      "execution_count": null,
      "metadata": {}
    },
    {
      "cell_type": "markdown",
      "source": [
        "To access a particular element of the vector (vector indexing) we can use the name of the vector and the number of the element in brackets, counting from 1. The following command will produce the output corresponding to the first element in the vector `a` we defined:"
      ],
      "metadata": {}
    },
    {
      "cell_type": "code",
      "source": [
        "a[1]"
      ],
      "outputs": [],
      "execution_count": null,
      "metadata": {}
    },
    {
      "cell_type": "markdown",
      "source": [
        "We can also do logical indexing, apply a condition so that only the elements of the vector that meet the condition are shown:"
      ],
      "metadata": {}
    },
    {
      "cell_type": "code",
      "source": [
        "a[a>3]"
      ],
      "outputs": [],
      "execution_count": null,
      "metadata": {}
    },
    {
      "cell_type": "markdown",
      "source": [
        "#### Matrices\n",
        "\nIn R, we can create a matrix from a vector. Matrices are two-dimensional data structures. The way we create a matrix is by specifying the values it will contain, the number of rows and number of columns and if we are going to fill the matrix by column or by row. The following command creates a vector with values from 1 to 9."
      ],
      "metadata": {}
    },
    {
      "cell_type": "code",
      "source": [
        "a <- c(1:9)"
      ],
      "outputs": [],
      "execution_count": null,
      "metadata": {}
    },
    {
      "cell_type": "code",
      "source": [
        "A <- matrix(a, nrow=3, ncol=3, byrow=TRUE)\n",
        "\nA"
      ],
      "outputs": [],
      "execution_count": null,
      "metadata": {}
    },
    {
      "cell_type": "markdown",
      "source": [
        "To  access  some  element  of  a  matrix  we  have  to specify  the  row  and  column  values  in  brackets \n",
        "after the matrix name. The following command, for example, gives the value 6, which is in the second row and the third column."
      ],
      "metadata": {}
    },
    {
      "cell_type": "code",
      "source": [
        "A[2,3]"
      ],
      "outputs": [],
      "execution_count": null,
      "metadata": {}
    },
    {
      "cell_type": "markdown",
      "source": [
        "We can access the values of a whole column at once, by leaving and empty space where the row number would be, and vice\n",
        "versa. A[2,] gives the values of the second row. Matrices can also be created using conditions for other matrices, and can also be indexed logical. Indexing  a  matrix  logical  gives  as  a  result  a  vector  with  the  values  of  the  matrix  for  which  the condition is true."
      ],
      "metadata": {}
    },
    {
      "cell_type": "code",
      "source": [
        "# Create a vector with values from 1 to 25\n",
        "a <- c(1:25)\n",
        "\n",
        "# Create a matrix from vector a, with 5 rows and 5 columns, and fill it by row.\n",
        "A <- matrix(a, nrow=5, ncol=5, byrow=TRUE)\n",
        "\n",
        "# Create a logical matrix from a condition.\n",
        "C <- A > 12"
      ],
      "outputs": [],
      "execution_count": null,
      "metadata": {}
    },
    {
      "cell_type": "code",
      "source": [
        "# Show the logical matrix: the values are true when the \n",
        "# corresponding elements of matrix A meet the condition \"A>12\".\n",
        "\nC"
      ],
      "outputs": [],
      "execution_count": null,
      "metadata": {}
    },
    {
      "cell_type": "code",
      "source": [
        "# Indexing matrix A using matrix C, this gives of us the values  \n",
        "# of A for which the corresponding values of C are TRUE.\n",
        "# That is, the values for which \"A>12\", in the form of a vector.\n",
        "\nA[C]"
      ],
      "outputs": [],
      "execution_count": null,
      "metadata": {}
    },
    {
      "cell_type": "markdown",
      "source": [
        "#### Arrays\n",
        "\nArrays are data structures similar to matrices, but they can have more than two dimensions. You can create them from a vector and specify the number of dimensions of the array."
      ],
      "metadata": {}
    },
    {
      "cell_type": "code",
      "source": [
        "# NOTE: For some reason, arrays don't display correctly in Jupyter notebooks.\n",
        "# See below for correct output.\n",
        "\n",
        "# Create a vector with values from 1 to 27\n",
        "a <- c(1:27)\n",
        "\n",
        "# Create an array from vector a, that has 3 matrices of dimension 3x3.\n",
        "A <- array(a, dim=c(3,3,3))\n",
        "\n",
        "# Show the array.\n",
        "A"
      ],
      "outputs": [],
      "execution_count": null,
      "metadata": {}
    },
    {
      "cell_type": "markdown",
      "source": [
        "This should be the right output for the array (which works in R outside Jupyter):\n",
        "\n",
        "```\n",
        ", , 1\n",
        "\n",
        "     [,1] [,2] [,3]\n",
        "[1,]    1    4    7\n",
        "[2,]    2    5    8\n",
        "[3,]    3    6    9\n",
        "\n",
        ", , 2\n",
        "\n",
        "     [,1] [,2] [,3]\n",
        "[1,]   10   13   16\n",
        "[2,]   11   14   17\n",
        "[3,]   12   15   18\n",
        "\n",
        ", , 3\n",
        "\n",
        "     [,1] [,2] [,3]\n",
        "[1,]   19   22   25\n",
        "[2,]   20   23   26\n",
        "[3,]   21   24   27\n",
        "```"
      ],
      "metadata": {}
    },
    {
      "cell_type": "markdown",
      "source": [
        "#### Lists\n",
        "\nLists are like vectors, but they can contain different data types at the same time, and they can also contain vectors. "
      ],
      "metadata": {}
    },
    {
      "cell_type": "code",
      "source": [
        "l <- list(c(1,2,3),'a', 1, 1+5i)\n",
        "\nl"
      ],
      "outputs": [],
      "execution_count": null,
      "metadata": {}
    },
    {
      "cell_type": "markdown",
      "source": [
        "#### Data Frames\n",
        "\nData  frames  are  like  lists  of  vectors  that  have  the  same  length.  They  are  used  to  store  data  in  a tabular form. You can create data frames using the following:"
      ],
      "metadata": {}
    },
    {
      "cell_type": "code",
      "source": [
        "data <- data.frame(\n",
        "    Name = c(\"James\", \"David\"),\n",
        "    Gender = c('M','M'),\n",
        "    Age = c(20, 23)\n",
        ")\n",
        "\ndata"
      ],
      "outputs": [],
      "execution_count": null,
      "metadata": {}
    },
    {
      "cell_type": "markdown",
      "source": [
        "If  you want to access a particular column of data of a data frame,  you use the name of the data frame followed by a $ and the name of the column. In the previous example, if we want to access the names, we can write the following, which will return a vector with the names written on it: "
      ],
      "metadata": {}
    },
    {
      "cell_type": "code",
      "source": [
        "data$Name"
      ],
      "outputs": [],
      "execution_count": null,
      "metadata": {}
    },
    {
      "cell_type": "markdown",
      "source": [
        "If we want, on the other hand, access only a particular row, we can use the following, which will give the first row of the data frame:"
      ],
      "metadata": {}
    },
    {
      "cell_type": "code",
      "source": [
        "data[1,]"
      ],
      "outputs": [],
      "execution_count": null,
      "metadata": {}
    },
    {
      "cell_type": "markdown",
      "source": [
        "You can also import previously created data from other files, like CSV files, as we will see below."
      ],
      "metadata": {}
    },
    {
      "cell_type": "markdown",
      "source": [
        "## Working with CMS Open Data\n",
        "\n",
        "### Importing Data from CSV files\n",
        "\n",
        "You can import files in the CSV (comma-separated values) format to R, and analyse the data contained in them. In  this  tutorial we are going to use CMS Open Data as an example.\n",
        "\n",
        "The data files for this example can be found here: [http://opendata.cern.ch/record/545](http://opendata.cern.ch/record/545)\n",
        "\nTo import the data files in R we use the following command:"
      ],
      "metadata": {}
    },
    {
      "cell_type": "code",
      "source": [
        "jpsi <- read.csv(\"http://opendata.cern.ch/record/545/files/Jpsimumu.csv\")"
      ],
      "outputs": [],
      "execution_count": null,
      "metadata": {}
    },
    {
      "cell_type": "markdown",
      "source": [
        "Here we are saving the data contained in the `Jpsimumu.csv` file in a variable called `data`. The data files contain thousands of entries, so instead of showing the whole file,  we can take a peek using the following function, which will show the first 6 rows of the data frame:"
      ],
      "metadata": {}
    },
    {
      "cell_type": "code",
      "source": [
        "head(jpsi)"
      ],
      "outputs": [],
      "execution_count": null,
      "metadata": {}
    },
    {
      "cell_type": "markdown",
      "source": [
        "\n",
        "## Calculating the Invariant Mass\n",
        "\n",
        "We are going to use the data stored in `jpsi`, which came from `Jpsimumu.csv`. The CSV file contains events from the CMS detector where two muons were detected.\n",
        "\nYou can see from `head(jpsi)` that there are values shown for the energy (E), the momentum (px, py, pz), the pseudo-rapidity (eta or η) and the angle (phi or φ). The value for the mass is not shown, but we can calculate it from the values of the energy and the momentum."
      ],
      "metadata": {}
    },
    {
      "cell_type": "markdown",
      "source": [
        "The invariant mass can be calculated with the following equation:\n",
        "\n",
        "$M = \\sqrt{(\\sum{E})^2 - ||\\sum{p}||^2}$\n",
        "\nwhere $M$ is the invariant mass, $\\sum{E}$ is the total energy, and $\\sum{p}$ is the total momentum. To calculate the invariant mass in the code, we are going to use the values of px, py and pz and the values of the energy for the two particles. First, we are going to calculate the vector sum of the momentum of particles 1 and 2. To calculate the vector sum, we have to individually sum each component of the vectors:"
      ],
      "metadata": {}
    },
    {
      "cell_type": "code",
      "source": [
        "pxt <- jpsi$px1+jpsi$px2\n",
        "pyt <- jpsi$py1+jpsi$py2\n",
        "pzt <- jpsi$pz1+jpsi$pz2"
      ],
      "outputs": [],
      "execution_count": null,
      "metadata": {}
    },
    {
      "cell_type": "markdown",
      "source": [
        "Then we calculate the magnitude of the vector, with the following:"
      ],
      "metadata": {}
    },
    {
      "cell_type": "code",
      "source": [
        "# Here we use the function sqrt() to obtain the square root of \n",
        "#the sum of all momentum components squared, and save it to the \n",
        "# variable ptotal\n",
        "\nptotal <- sqrt(pxt^2+pyt^2+pzt^2)"
      ],
      "outputs": [],
      "execution_count": null,
      "metadata": {}
    },
    {
      "cell_type": "markdown",
      "source": [
        "We can also define a function to do this calculation. You can define your own functions using the \n",
        "following syntax:\n",
        "\n",
        "```\n",
        "myfunctionname = function(arg1, arg2...)\n",
        "{\n",
        "statements\n",
        "return(a) \n",
        "}\n",
        "```\n",
        "\nTo define a function to calculate the magnitude of a vector, we need to take three arguments and return one value. We can call this function `magnitude()` and define it like this:"
      ],
      "metadata": {}
    },
    {
      "cell_type": "code",
      "source": [
        "magnitude = function(x, y, z) {\n",
        "    m = sqrt(x^2 + y^2 + z^2)\n",
        "    return(m)\n",
        "}"
      ],
      "outputs": [],
      "execution_count": null,
      "metadata": {}
    },
    {
      "cell_type": "markdown",
      "source": [
        "Now to do the calculation using the function we simply pass the arguments, which are the three components of the momentum in the different spatial directions:"
      ],
      "metadata": {}
    },
    {
      "cell_type": "code",
      "source": [
        "ptotal <- magnitude(pxt, pyt, pzt)"
      ],
      "outputs": [],
      "execution_count": null,
      "metadata": {}
    },
    {
      "cell_type": "markdown",
      "source": [
        "We can also define a function to do the calculation of the invariant mass of a system consisting of \n",
        "two particles:"
      ],
      "metadata": {}
    },
    {
      "cell_type": "code",
      "source": [
        "invmass = function(px1, px2, py1, py2, pz1, pz2, E1, E2){\n",
        "    px = px1+px2\n",
        "    py = py1+py2\n",
        "    pz = pz1+pz2\n",
        "    E = E1+E2\n",
        "    ptotal = magnitude(px, py, pz)\n",
        "    mass = sqrt(E^2 - ptotal^2)\n",
        "    return(mass)\n",
        "}\n",
        "\n",
        "# Here we first indicate the name of the function and its arguments, \n",
        "# then we obtain the sum of p1 and p2 for each individual component, \n",
        "# and we do the sum of the energies, then we obtain the magnitude \n",
        "# of the total momentum and finally we calculate the invariant mass \n",
        "# using the previously stated equation. "
      ],
      "outputs": [],
      "execution_count": null,
      "metadata": {}
    },
    {
      "cell_type": "markdown",
      "source": [
        "We can now calculate the invariant mass value using the function we have just defined and view the first values using `head()`:"
      ],
      "metadata": {}
    },
    {
      "cell_type": "code",
      "source": [
        "jpsimass = invmass(jpsi$px1, jpsi$px2, jpsi$py1, jpsi$py2, \n",
        "                   jpsi$pz1, jpsi$pz2, jpsi$E1, jpsi$E2)\n",
        "\nhead(jpsimass)"
      ],
      "outputs": [],
      "execution_count": null,
      "metadata": {}
    },
    {
      "cell_type": "markdown",
      "source": [
        "### Plotting a Histogram\n",
        "\nNow that we have the values for the invariant mass, we can plot a histogram to see all the data. We can do this in R with the function hist( ):"
      ],
      "metadata": {}
    },
    {
      "cell_type": "code",
      "source": [
        "hist(jpsimass, breaks = 500)\n",
        "\n",
        "# Here, “breaks” indicates the numberof bins. You can experiment \n",
        "# changing this number to see how you can better visualise the data."
      ],
      "outputs": [],
      "execution_count": null,
      "metadata": {}
    },
    {
      "cell_type": "markdown",
      "source": [
        "We  can change  the  colors  and  title  of  the  histogram  with  different  commands. Try the  following \n",
        "command:"
      ],
      "metadata": {}
    },
    {
      "cell_type": "code",
      "source": [
        "hist(jpsimass, breaks = 500, xlab = \"Mass (GeV)\", lty=\"blank\", \n",
        "     col=rgb(0,0,1,1/4), main=\"Invariant Mass Histogram\")\n",
        "\n",
        "# Here ‘xlab’ is the title for the x axis, lty=\"blank\" indicates \n",
        "# that there’s no border for the bins in the histogram, ‘main’ is \n",
        "# the title for the histogram and ‘col’ indicates the colour (the \n",
        "# numbers are the values for the red, green, blue and alpha channels)."
      ],
      "outputs": [],
      "execution_count": null,
      "metadata": {}
    },
    {
      "cell_type": "markdown",
      "source": [
        "Now in the histogram you can clearly see a very big peak around 3.1 GeV and a smaller peak around 3.7 GeV. These two peaks correspond to the mass of two particles that have di-muon decay (decay into a muon and an anti-muon). If we look in the [Particle Data Group database](http://pdg.lbl.gov/), we find that these two particles are mesons: the \n",
        "J/ψ(1S) meson and the ψ(2S) meson, respectively (although the name of the file -- `Jpsimumu.csv` -- should've given you a clue).\n",
        "\nYou can explore the rest of the files and try to identify the particles that appear in each histogram. To identify the particles, you can take into account the mass and the decay mode and search in the Particle Data Group database."
      ],
      "metadata": {}
    },
    {
      "cell_type": "code",
      "source": [],
      "outputs": [],
      "execution_count": null,
      "metadata": {}
    }
  ],
  "metadata": {
    "kernelspec": {
      "name": "ir",
      "language": "R",
      "display_name": "R"
    },
    "language_info": {
      "name": "R",
      "codemirror_mode": "r",
      "pygments_lexer": "r",
      "mimetype": "text/x-r-source",
      "file_extension": ".r",
      "version": "3.4.2"
    },
    "kernel_info": {
      "name": "ir"
    },
    "nteract": {
      "version": "0.3.4"
    }
  },
  "nbformat": 4,
  "nbformat_minor": 1
}