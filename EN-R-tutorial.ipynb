{
 "cells": [
  {
   "cell_type": "markdown",
   "metadata": {},
   "source": [
    "# Plotting an Invariant Mass Histogram in R\n",
    "\n",
    "This tutorial is meant to be run on [CMS Open Data](http://opendata.cern.ch/about/cms) available on the [CERN Open Data portal](http://opendata.cern.ch).\n",
    "\n",
    "**N.B.**: Original text and code by [Edith Villegas Garcia](https://github.com/edithvillegas). Code using `tidyverse` instead of base R by [Andrew John Lowe](https://github.com/andrewjohnlowe). Edited and converted to a Jupyter notebook by [Achintya Rao](https://github.com/RaoOfPhysics).\n",
    "\n",
    "This notebook can be run in Binder by following the instructions from [https://github.com/binder-examples/dockerfile-r](https://github.com/binder-examples/dockerfile-r). In addition to the packages installed by the example Dockerfile there, `tidyverse` is also installed for this repo.\n",
    "\n",
    "---\n",
    "\n",
    "If you're comfortable with R, [jump straight into the analysis of CMS Open Data](#Working-with-CMS-Open-Data). If not, let's start with a…\n",
    "\n",
    "## Quick intro to R\n",
    "\n",
    "R is a language used for statistics and data analysis. In this tutorial, we introduce data analysis in R using the CMS Open Data from 2011. At the end of this tutorial, you will know how to create histograms of invariant mass and identify the particles that appear in the histograms.\n",
    "\n",
    "### Data types in R\n",
    "\n",
    "There are different data types in R. Basic data types include the following:\n",
    "- Logical\n",
    "- Numeric\n",
    "- Integer\n",
    "- Complex\n",
    "- Character\n",
    "\n",
    "Variables  are  assigned  to  a  type  without  having  to  specify  it.  Numeric  variables  are  simply numbers. Integer variables are specified by adding an “L” at the end of the number:"
   ]
  },
  {
   "cell_type": "code",
   "execution_count": null,
   "metadata": {},
   "outputs": [],
   "source": [
    "a <- 5L"
   ]
  },
  {
   "cell_type": "markdown",
   "metadata": {},
   "source": [
    "Complex variables are complex numbers, they can be declared using the following format:"
   ]
  },
  {
   "cell_type": "code",
   "execution_count": null,
   "metadata": {},
   "outputs": [],
   "source": [
    "b <- 5 + 3i\n",
    "d <- 8 + 0i"
   ]
  },
  {
   "cell_type": "markdown",
   "metadata": {},
   "source": [
    "Logical variables can have values of either TRUE or FALSE. You can also assign a condition to a logical variable:"
   ]
  },
  {
   "cell_type": "code",
   "execution_count": null,
   "metadata": {},
   "outputs": [],
   "source": [
    "c <- 3 > 5"
   ]
  },
  {
   "cell_type": "markdown",
   "metadata": {},
   "source": [
    "Character variables are either letters or phrases, you can also add numbers and symbols between quotation marks."
   ]
  },
  {
   "cell_type": "code",
   "execution_count": null,
   "metadata": {},
   "outputs": [],
   "source": [
    "cr <- \"3!\""
   ]
  },
  {
   "cell_type": "markdown",
   "metadata": {},
   "source": [
    "#### Vectors\n",
    "\n",
    "Variables can be either scalar or vector. A scalar vector is a variable that contains a Vectors can contain more than one value, and are created in the following form:"
   ]
  },
  {
   "cell_type": "code",
   "execution_count": null,
   "metadata": {},
   "outputs": [],
   "source": [
    "a <- c(2, 3, 5)"
   ]
  },
  {
   "cell_type": "markdown",
   "metadata": {},
   "source": [
    "Vectors can be any of the basic data types that we mentioned before. We can also apply conditions to vectors to create a logical vector, using the following conditions:"
   ]
  },
  {
   "cell_type": "code",
   "execution_count": null,
   "metadata": {},
   "outputs": [],
   "source": [
    "a <- c(2, 5, 8, 3, 9)\n",
    "b <- a > 3"
   ]
  },
  {
   "cell_type": "markdown",
   "metadata": {},
   "source": [
    "We can create a vector with these values:\n",
    "`FALSE TRUE TRUE FALSE TRUE`"
   ]
  },
  {
   "cell_type": "code",
   "execution_count": null,
   "metadata": {},
   "outputs": [],
   "source": [
    "b"
   ]
  },
  {
   "cell_type": "markdown",
   "metadata": {},
   "source": [
    "To access a particular element of the vector (vector indexing) we can use the name of the vector and the number of the element in brackets, counting from 1. The following command will produce the output corresponding to the first element in the vector `a` we defined:"
   ]
  },
  {
   "cell_type": "code",
   "execution_count": null,
   "metadata": {},
   "outputs": [],
   "source": [
    "a[1]"
   ]
  },
  {
   "cell_type": "markdown",
   "metadata": {},
   "source": [
    "We can also do logical indexing, apply a condition so that only the elements of the vector that meet the condition are shown:"
   ]
  },
  {
   "cell_type": "code",
   "execution_count": null,
   "metadata": {},
   "outputs": [],
   "source": [
    "a[a>3]"
   ]
  },
  {
   "cell_type": "markdown",
   "metadata": {},
   "source": [
    "#### Matrices\n",
    "\n",
    "In R, we can create a matrix from a vector. Matrices are two-dimensional data structures. The way we create a matrix is by specifying the values it will contain, the number of rows and number of columns and if we are going to fill the matrix by column or by row. The following command creates a vector with values from 1 to 9."
   ]
  },
  {
   "cell_type": "code",
   "execution_count": null,
   "metadata": {},
   "outputs": [],
   "source": [
    "a <- c(1:9)"
   ]
  },
  {
   "cell_type": "code",
   "execution_count": null,
   "metadata": {},
   "outputs": [],
   "source": [
    "A <- matrix(a, nrow=3, ncol=3, byrow=TRUE)\n",
    "\n",
    "A"
   ]
  },
  {
   "cell_type": "markdown",
   "metadata": {},
   "source": [
    "To  access  some  element  of  a  matrix  we  have  to specify  the  row  and  column  values  in  brackets \n",
    "after the matrix name. The following command, for example, gives the value 6, which is in the second row and the third column."
   ]
  },
  {
   "cell_type": "code",
   "execution_count": null,
   "metadata": {},
   "outputs": [],
   "source": [
    "A[2,3]"
   ]
  },
  {
   "cell_type": "markdown",
   "metadata": {},
   "source": [
    "We can access the values of a whole column at once, by leaving and empty space where the row number would be, and vice\n",
    "versa. A[2,] gives the values of the second row. Matrices can also be created using conditions for other matrices, and can also be indexed logical. Indexing  a  matrix  logical  gives  as  a  result  a  vector  with  the  values  of  the  matrix  for  which  the condition is true."
   ]
  },
  {
   "cell_type": "code",
   "execution_count": null,
   "metadata": {},
   "outputs": [],
   "source": [
    "# Create a vector with values from 1 to 25\n",
    "a <- c(1:25)\n",
    "\n",
    "# Create a matrix from vector a, with 5 rows and 5 columns, and fill it by row.\n",
    "A <- matrix(a, nrow=5, ncol=5, byrow=TRUE)\n",
    "\n",
    "# Create a logical matrix from a condition.\n",
    "C <- A > 12"
   ]
  },
  {
   "cell_type": "code",
   "execution_count": null,
   "metadata": {},
   "outputs": [],
   "source": [
    "# Show the logical matrix: the values are true when the \n",
    "# corresponding elements of matrix A meet the condition \"A>12\".\n",
    "\n",
    "C"
   ]
  },
  {
   "cell_type": "code",
   "execution_count": null,
   "metadata": {},
   "outputs": [],
   "source": [
    "# Indexing matrix A using matrix C, this gives of us the values  \n",
    "# of A for which the corresponding values of C are TRUE.\n",
    "# That is, the values for which \"A>12\", in the form of a vector.\n",
    "\n",
    "A[C]"
   ]
  },
  {
   "cell_type": "markdown",
   "metadata": {},
   "source": [
    "#### Arrays\n",
    "\n",
    "Arrays are data structures similar to matrices, but they can have more than two dimensions. You can create them from a vector and specify the number of dimensions of the array."
   ]
  },
  {
   "cell_type": "code",
   "execution_count": null,
   "metadata": {},
   "outputs": [],
   "source": [
    "# NOTE: For some reason, arrays don't display correctly in Jupyter notebooks.\n",
    "# See below for correct output.\n",
    "\n",
    "# Create a vector with values from 1 to 27\n",
    "a <- c(1:27)\n",
    "\n",
    "# Create an array from vector a, that has 3 matrices of dimension 3x3.\n",
    "A <- array(a, dim=c(3,3,3))\n",
    "\n",
    "# Show the array.\n",
    "A"
   ]
  },
  {
   "cell_type": "markdown",
   "metadata": {},
   "source": [
    "This should be the right output for the array (which works in R outside Jupyter):\n",
    "\n",
    "```\n",
    ", , 1\n",
    "\n",
    "     [,1] [,2] [,3]\n",
    "[1,]    1    4    7\n",
    "[2,]    2    5    8\n",
    "[3,]    3    6    9\n",
    "\n",
    ", , 2\n",
    "\n",
    "     [,1] [,2] [,3]\n",
    "[1,]   10   13   16\n",
    "[2,]   11   14   17\n",
    "[3,]   12   15   18\n",
    "\n",
    ", , 3\n",
    "\n",
    "     [,1] [,2] [,3]\n",
    "[1,]   19   22   25\n",
    "[2,]   20   23   26\n",
    "[3,]   21   24   27\n",
    "```"
   ]
  },
  {
   "cell_type": "markdown",
   "metadata": {},
   "source": [
    "#### Lists\n",
    "\n",
    "Lists are like vectors, but they can contain different data types at the same time, and they can also contain vectors. "
   ]
  },
  {
   "cell_type": "code",
   "execution_count": null,
   "metadata": {},
   "outputs": [],
   "source": [
    "l <- list(c(1,2,3),'a', 1, 1+5i)\n",
    "\n",
    "l"
   ]
  },
  {
   "cell_type": "markdown",
   "metadata": {},
   "source": [
    "#### Data Frames\n",
    "\n",
    "Data  frames  are  like  lists  of  vectors  that  have  the  same  length.  They  are  used  to  store  data  in  a tabular form. You can create data frames using the following:"
   ]
  },
  {
   "cell_type": "code",
   "execution_count": null,
   "metadata": {},
   "outputs": [],
   "source": [
    "data <- data.frame(\n",
    "    Name = c(\"James\", \"David\"),\n",
    "    Gender = c('M','M'),\n",
    "    Age = c(20, 23)\n",
    ")\n",
    "\n",
    "data"
   ]
  },
  {
   "cell_type": "markdown",
   "metadata": {},
   "source": [
    "If  you want to access a particular column of data of a data frame,  you use the name of the data frame followed by a $ and the name of the column. In the previous example, if we want to access the names, we can write the following, which will return a vector with the names written on it: "
   ]
  },
  {
   "cell_type": "code",
   "execution_count": null,
   "metadata": {},
   "outputs": [],
   "source": [
    "data$Name"
   ]
  },
  {
   "cell_type": "markdown",
   "metadata": {},
   "source": [
    "If we want, on the other hand, access only a particular row, we can use the following, which will give the first row of the data frame:"
   ]
  },
  {
   "cell_type": "code",
   "execution_count": null,
   "metadata": {},
   "outputs": [],
   "source": [
    "data[1,]"
   ]
  },
  {
   "cell_type": "markdown",
   "metadata": {},
   "source": [
    "You can also import previously created data from other files, like CSV files, as we will see below."
   ]
  },
  {
   "cell_type": "markdown",
   "metadata": {},
   "source": [
    "## Working with CMS Open Data\n",
    "\n",
    "This example uses \"base R\" without installing or calling any additional packages.\n",
    "It serves a didactic role in explaining how R _can_ be used for playing with CMS data, introducing the reader to concepts of particle physics and demonstrates what steps are taken for performing a simple analysis.\n",
    "If, however, you are familiar with both R and particle physics and want to analyse these data using the `tidyverse` package, [skip right to the end](#Using-Tidyverse).\n",
    "\n",
    "---\n",
    "\n",
    "### Importing Data from CSV files\n",
    "\n",
    "You can import files in the CSV (comma-separated values) format to R, and analyse the data contained in them. In  this  tutorial we are going to use CMS Open Data as an example.\n",
    "\n",
    "The data files for this example can be found here: [http://opendata.cern.ch/record/545](http://opendata.cern.ch/record/545)\n",
    "\n",
    "To import the data files in R we use the following command:"
   ]
  },
  {
   "cell_type": "code",
   "execution_count": null,
   "metadata": {},
   "outputs": [],
   "source": [
    "jpsi <- read.csv(\"http://opendata.cern.ch/record/545/files/Jpsimumu.csv\")"
   ]
  },
  {
   "cell_type": "markdown",
   "metadata": {},
   "source": [
    "Here we are saving the data contained in the `Jpsimumu.csv` file in a variable called `data`. The data files contain thousands of entries, so instead of showing the whole file,  we can take a peek using the following function, which will show the first 6 rows of the data frame:"
   ]
  },
  {
   "cell_type": "code",
   "execution_count": null,
   "metadata": {},
   "outputs": [],
   "source": [
    "head(jpsi)"
   ]
  },
  {
   "cell_type": "markdown",
   "metadata": {},
   "source": [
    "### Calculating the Invariant Mass\n",
    "\n",
    "We are going to use the data stored in `jpsi`, which came from `Jpsimumu.csv`. The CSV file contains events from the CMS detector where two muons were detected.\n",
    "\n",
    "You can see from `head(jpsi)` that there are values shown for the energy (E), the momentum (px, py, pz), the pseudo-rapidity (eta or η) and the angle (phi or φ). The value for the mass is not shown, but we can calculate it from the values of the energy and the momentum.\n",
    "\n",
    "The invariant mass can be calculated with the following equation:\n",
    "\n",
    "$M = \\sqrt{(\\sum{E})^2 - ||\\sum{p}||^2}$\n",
    "\n",
    "where $M$ is the invariant mass, $\\sum{E}$ is the total energy, and $\\sum{p}$ is the total momentum. To calculate the invariant mass in the code, we are going to use the values of px, py and pz and the values of the energy for the two particles. First, we are going to calculate the vector sum of the momentum of particles 1 and 2. To calculate the vector sum, we have to individually sum each component of the vectors:"
   ]
  },
  {
   "cell_type": "code",
   "execution_count": null,
   "metadata": {},
   "outputs": [],
   "source": [
    "pxt <- jpsi$px1+jpsi$px2\n",
    "pyt <- jpsi$py1+jpsi$py2\n",
    "pzt <- jpsi$pz1+jpsi$pz2"
   ]
  },
  {
   "cell_type": "markdown",
   "metadata": {},
   "source": [
    "Then we calculate the magnitude of the vector, with the following:"
   ]
  },
  {
   "cell_type": "code",
   "execution_count": null,
   "metadata": {},
   "outputs": [],
   "source": [
    "# Here we use the function sqrt() to obtain the square root of \n",
    "#the sum of all momentum components squared, and save it to the \n",
    "# variable ptotal\n",
    "\n",
    "ptotal <- sqrt(pxt^2+pyt^2+pzt^2)"
   ]
  },
  {
   "cell_type": "markdown",
   "metadata": {},
   "source": [
    "We can also define a function to do this calculation. You can define your own functions using the \n",
    "following syntax:\n",
    "\n",
    "```\n",
    "myfunctionname = function(arg1, arg2...)\n",
    "{\n",
    "statements\n",
    "return(a) \n",
    "}\n",
    "```\n",
    "\n",
    "To define a function to calculate the magnitude of a vector, we need to take three arguments and return one value. We can call this function `magnitude()` and define it like this:"
   ]
  },
  {
   "cell_type": "code",
   "execution_count": null,
   "metadata": {},
   "outputs": [],
   "source": [
    "magnitude = function(x, y, z) {\n",
    "    m = sqrt(x^2 + y^2 + z^2)\n",
    "    return(m)\n",
    "}"
   ]
  },
  {
   "cell_type": "markdown",
   "metadata": {},
   "source": [
    "Now to do the calculation using the function we simply pass the arguments, which are the three components of the momentum in the different spatial directions:"
   ]
  },
  {
   "cell_type": "code",
   "execution_count": null,
   "metadata": {},
   "outputs": [],
   "source": [
    "ptotal <- magnitude(pxt, pyt, pzt)"
   ]
  },
  {
   "cell_type": "markdown",
   "metadata": {},
   "source": [
    "We can also define a function to do the calculation of the invariant mass of a system consisting of \n",
    "two particles:"
   ]
  },
  {
   "cell_type": "code",
   "execution_count": null,
   "metadata": {},
   "outputs": [],
   "source": [
    "invmass = function(px1, px2, py1, py2, pz1, pz2, E1, E2){\n",
    "    px = px1+px2\n",
    "    py = py1+py2\n",
    "    pz = pz1+pz2\n",
    "    E = E1+E2\n",
    "    ptotal = magnitude(px, py, pz)\n",
    "    mass = sqrt(E^2 - ptotal^2)\n",
    "    return(mass)\n",
    "}\n",
    "\n",
    "# Here we first indicate the name of the function and its arguments, \n",
    "# then we obtain the sum of p1 and p2 for each individual component, \n",
    "# and we do the sum of the energies, then we obtain the magnitude \n",
    "# of the total momentum and finally we calculate the invariant mass \n",
    "# using the previously stated equation. "
   ]
  },
  {
   "cell_type": "markdown",
   "metadata": {},
   "source": [
    "We can now calculate the invariant mass value using the function we have just defined and view the first values using `head()`:"
   ]
  },
  {
   "cell_type": "code",
   "execution_count": null,
   "metadata": {},
   "outputs": [],
   "source": [
    "jpsimass = invmass(jpsi$px1, jpsi$px2, jpsi$py1, jpsi$py2, \n",
    "                   jpsi$pz1, jpsi$pz2, jpsi$E1, jpsi$E2)\n",
    "\n",
    "head(jpsimass)"
   ]
  },
  {
   "cell_type": "markdown",
   "metadata": {},
   "source": [
    "### Plotting a Histogram\n",
    "\n",
    "Now that we have the values for the invariant mass, we can plot a histogram to see all the data. We can do this in R with the function hist( ):"
   ]
  },
  {
   "cell_type": "code",
   "execution_count": null,
   "metadata": {},
   "outputs": [],
   "source": [
    "hist(jpsimass, breaks = 500)\n",
    "\n",
    "# Here, “breaks” indicates the numberof bins. You can experiment \n",
    "# changing this number to see how you can better visualise the data."
   ]
  },
  {
   "cell_type": "markdown",
   "metadata": {},
   "source": [
    "We  can change  the  colours  and  title  of  the  histogram  with  different  commands. Try the  following \n",
    "command:"
   ]
  },
  {
   "cell_type": "code",
   "execution_count": null,
   "metadata": {},
   "outputs": [],
   "source": [
    "hist(jpsimass, breaks = 500, xlab = \"Mass (GeV)\", lty=\"blank\", \n",
    "     col=rgb(0,0,1,1/4), main=\"Invariant Mass Histogram\")\n",
    "\n",
    "# Here ‘xlab’ is the title for the x axis, lty=\"blank\" indicates \n",
    "# that there’s no border for the bins in the histogram, ‘main’ is \n",
    "# the title for the histogram and ‘col’ indicates the colour (the \n",
    "# numbers are the values for the red, green, blue and alpha channels)."
   ]
  },
  {
   "cell_type": "markdown",
   "metadata": {},
   "source": [
    "Now in the histogram you can clearly see a very big peak around 3.1 GeV and a smaller peak around 3.7 GeV. These two peaks correspond to the mass of two particles that have di-muon decay (decay into a muon and an anti-muon). If we look in the [Particle Data Group database](http://pdg.lbl.gov/), we find that these two particles are mesons: the \n",
    "J/ψ(1S) meson and the ψ(2S) meson, respectively (although the name of the file -- `Jpsimumu.csv` -- should've given you a clue).\n",
    "\n",
    "You can explore the rest of the files and try to identify the particles that appear in each histogram. To identify the particles, you can take into account the mass and the decay mode and search in the Particle Data Group database."
   ]
  },
  {
   "cell_type": "markdown",
   "metadata": {},
   "source": [
    "## Using Tidyverse\n",
    "\n",
    "The above example of analysis of CMS Open Data uses the so-called \"base R\" software without calling any external packages.\n",
    "However, the [`tidyverse`](https://www.tidyverse.org/) package (which is really a collection of a family of related packages) greatly simplifies both the manipulation/analysis of data and its visualisation.\n",
    "It is fast becoming a standard in the world of data science, and there are good reasons to [teach tidyverse to beginners](http://varianceexplained.org/r/teach-tidyverse/) (see issue [\\#3](https://github.com/cms-opendata-education/cms-rmaterial-multiple-languages/issues/3)).\n",
    "\n",
    "So, we thought we could demonstrate the above analysis of CMS Open Data using the `tidyverse` package not only to show you how you can simplify and steamline your code but also to make your explorations with CMS Open Data using R a little more enjoyable.\n",
    "\n",
    "You can condense the whole process of importating the data, manipulating the variables in the dataset and visualising the contents in the form of a plot using a single, relatively small code chunk (see explanation below):"
   ]
  },
  {
   "cell_type": "code",
   "execution_count": null,
   "metadata": {},
   "outputs": [],
   "source": [
    "suppressMessages(require(tidyverse))\n",
    "\n",
    "read_csv(\"http://opendata.cern.ch/record/545/files/Jpsimumu.csv\", \n",
    "         col_types = cols()) %>% \n",
    "  mutate(ptotal = sqrt((px1+px2)^2 + (py1+py2)^2 + (pz1+pz2)^2), \n",
    "         E = E1+E2, \n",
    "         mass = sqrt(E^2 - ptotal^2)) %>% \n",
    "  ggplot(aes(mass)) + \n",
    "  geom_histogram(bins = 500, fill = \"blue\", alpha = 0.4) + \n",
    "  xlab(\"Mass (GeV)\") + \n",
    "  ylab(\"Frequency\") + \n",
    "  ggtitle(\"Invariant Mass Histogram\") + \n",
    "  theme_bw() + \n",
    "  theme(plot.title = element_text(hjust = 0.5))"
   ]
  },
  {
   "cell_type": "markdown",
   "metadata": {},
   "source": [
    "So what did we just do here?\n",
    "Let us take a look at the code line-by-line:\n",
    "\n",
    "The first line of the code chunk merely calls the `tidyverse` package, with the command `require(tidyverse)`.\n",
    "\n",
    "However, when a package is loaded, it usually announces this fact by listing some information, including potential conflicts with functions from base R or other packages.\n",
    "We can suppress these messages with `suppressMessages()`, without which you might see something like this:\n",
    "\n",
    "```R\n",
    "Loading required package: tidyverse\n",
    "── Attaching packages ─────────────────────────────────────── tidyverse 1.2.1 ──\n",
    "✔ ggplot2 2.2.1     ✔ purrr   0.2.4\n",
    "✔ tibble  1.3.4     ✔ dplyr   0.7.4\n",
    "✔ tidyr   0.7.2     ✔ stringr 1.2.0\n",
    "✔ readr   1.1.1     ✔ forcats 0.2.0\n",
    "── Conflicts ────────────────────────────────────────── tidyverse_conflicts() ──\n",
    "✖ dplyr::filter() masks stats::filter()\n",
    "✖ dplyr::lag()    masks stats::lag()\n",
    "```"
   ]
  },
  {
   "cell_type": "markdown",
   "metadata": {},
   "source": [
    "Now, the next part of the code can be treated as a single sentence: \"**Read** this file, THEN **mutate** its contents to create new variables including `mass`, THEN **plot** `mass` with some specified parameters.\"\n",
    "\n",
    "Essentially, these are the main functions you're using (along with the \"piping\" operator `%>%`):\n",
    "\n",
    "|Function 1|   |Function 2||Function 3|\n",
    "|:--|:--|:--|:--|:--|\n",
    "|**Read** this file|THEN|**mutate** its contents|THEN|**plot** it.|\n",
    "|`read_csv()`|`%>%`|`mutate()`|`%>%`|`ggplot()`|"
   ]
  },
  {
   "cell_type": "markdown",
   "metadata": {},
   "source": [
    "- `read_csv()` comes from the `readr` package, and takes two arguments here:\n",
    "    1. The CSV file that needs to be read, and\n",
    "    1. an optional argument for suppressing the column specification based on the headers in the CSV file.\n",
    "\n"
   ]
  },
  {
   "cell_type": "code",
   "execution_count": null,
   "metadata": {},
   "outputs": [],
   "source": [
    "# Read the CSV file and assign its contents to a data frame `jpsi`:\n",
    "jpsi <- read_csv(\"http://opendata.cern.ch/record/545/files/Jpsimumu.csv\")\n",
    "\n",
    "# Now display the contents of this data frame:\n",
    "jpsi"
   ]
  },
  {
   "cell_type": "markdown",
   "metadata": {},
   "source": [
    "If you \"pipe\" the output of this command using the `%>%` operator from the `magrittr` package, you can perform some action on the contents of the data frame, such as \"mutating\" it to create new variables:\n",
    "\n",
    "- `mutate()` comes from the `dplyr` package, and creates three new variables here:\n",
    "    1. `ptotal` is the total momentum for each &mu;&mu; candidate,\n",
    "    1. `E` is the total energy for each candidate, and\n",
    "    1. `mass` is the invariant mass of each candidate, calculated from `ptotal` and `E`.\n",
    "\n"
   ]
  },
  {
   "cell_type": "code",
   "execution_count": null,
   "metadata": {},
   "outputs": [],
   "source": [
    "# Overwrite the original data frame with the \"mutated\" version\n",
    "jpsi <- jpsi %>% \n",
    "  mutate(ptotal = sqrt((px1+px2)^2 + (py1+py2)^2 + (pz1+pz2)^2), \n",
    "         E = E1+E2, \n",
    "         mass = sqrt(E^2 - ptotal^2))\n",
    "\n",
    "# Display the updated data frame and scroll to the extreme right\n",
    "# to see our new variables:\n",
    "jpsi"
   ]
  },
  {
   "cell_type": "markdown",
   "metadata": {},
   "source": [
    "Instead of displaying it like this, we can \"pipe\" the new data frame to our plotting function:\n",
    "\n",
    "- `ggplot()` comes from the `ggplot2` package, and works on the principle of layers:\n",
    "    1. `aes(mass)` tells it we want to use the `mass` variable we've just created,\n",
    "    1. `geom_histogram()` tells it to take this variable and draw its histogram with the specified bins and colours,\n",
    "    1. `xlab()` and `ylab()` provides the labels,\n",
    "    1. `ggtitle()` specifies the title,\n",
    "    1. `theme_bw()` choses the black-and-white theme, and\n",
    "    1. `theme()` allows you to manipulate elements of the plot individually."
   ]
  },
  {
   "cell_type": "code",
   "execution_count": null,
   "metadata": {},
   "outputs": [],
   "source": [
    "# Plot the variable `mass` from the data frame `jpsi` with default values\n",
    "jpsi %>% \n",
    "  ggplot(aes(mass)) + \n",
    "  geom_histogram()"
   ]
  },
  {
   "cell_type": "markdown",
   "metadata": {},
   "source": [
    "But thanks to the `%>%` operator, we don't have to create a named variable (\"`jpsi`\") and keep overwriting it manually.\n",
    "We can chain the various outputs through \"piping\", and give `ggplot` some nice tweaks, as we saw above:"
   ]
  },
  {
   "cell_type": "code",
   "execution_count": null,
   "metadata": {},
   "outputs": [],
   "source": [
    "read_csv(\"http://opendata.cern.ch/record/545/files/Jpsimumu.csv\", \n",
    "         col_types = cols()) %>% \n",
    "  mutate(ptotal = sqrt((px1+px2)^2 + (py1+py2)^2 + (pz1+pz2)^2), \n",
    "         E = E1+E2, \n",
    "         mass = sqrt(E^2 - ptotal^2)) %>% \n",
    "  ggplot(aes(mass)) + \n",
    "  geom_histogram(bins = 500, fill = \"blue\", alpha = 0.4) + \n",
    "  xlab(\"Mass (GeV)\") + \n",
    "  ylab(\"Frequency\") + \n",
    "  ggtitle(\"Invariant Mass Histogram\") + \n",
    "  theme_bw() + \n",
    "  theme(plot.title = element_text(hjust = 0.5))"
   ]
  },
  {
   "cell_type": "markdown",
   "metadata": {},
   "source": [
    "We hope you enjoyed this tutorial.\n",
    "Good luck with exploring CMS Open Data using R!"
   ]
  }
 ],
 "metadata": {
  "kernel_info": {
   "name": "ir"
  },
  "kernelspec": {
   "display_name": "R",
   "language": "R",
   "name": "ir"
  },
  "language_info": {
   "codemirror_mode": "r",
   "file_extension": ".r",
   "mimetype": "text/x-r-source",
   "name": "R",
   "pygments_lexer": "r",
   "version": "3.4.2"
  },
  "nteract": {
   "version": "0.3.4"
  }
 },
 "nbformat": 4,
 "nbformat_minor": 1
}
